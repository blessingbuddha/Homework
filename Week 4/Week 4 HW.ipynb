{
 "cells": [
  {
   "cell_type": "markdown",
   "metadata": {},
   "source": [
    "**<ins>Use markdown formatting for the following questions (e.g., bold lettering, bullet points, different font sizes, etc.)</ins>**:\n",
    "\n",
    "1. What does one need to do to use a module?\n",
    "    - If we want to use code from a module or a library in our applications, we first need to import the respective module into our code-base. by using the import statement.\n",
    "---\n",
    "2. Name a Module (not the DateTime Nodule) we looked at and write a line or 2 of code as an example using this module.\n",
    "    - Python Random Module \n",
    "    - import random\n",
    "    - List of names\n",
    "    - names = [\"Leena\", \"Laila\", \"David\", \"Freddie\", \"Angela\", \"Mimi\"]\n",
    "    - random.shuffle(names)\n",
    "    - team1 = names[:3]  # Adjust the number of players per team as needed\n",
    "    - team2 = names[3:]\n",
    "    - print(\"Team 1:\", team1)\n",
    "    - print(\"Team 2:\", team2)\n",
    "---\n",
    "3. What is a benefit of using Exception handling?\n",
    "    - Python will normally stop and generate an error message when something goes wrong.\n",
    "    - Python generates a message called an exception, when an error or exception occurs in a called block of code.\n",
    "---\n",
    "4. what are the 4 components used for Python Exception Handling?\n",
    "    - The `try` block lets you test a block of code for errors.\n",
    "    - The `except` block lets you handle the error.\n",
    "    - The `else` block lets you execute code when there is no error.\n",
    "    - The `finally` block lets you execute code, regardless of the result of the try- and except blocks.\n",
    "---\n",
    "5. NumPy arrays are like what Python data type?\n",
    "    - Lists\n",
    "---\n",
    "6. What is one of the main benefits of using NumPy arrays.\n",
    "    - Occupy less memory \n",
    "    - Faster\n",
    "    - More convenient \n",
    "---\n",
    "7. What is one of the main requirements about the 'dtype' of NumPy arrays?\n",
    "    - The dtype of a NumPy array is homogeneous, and all elements within that array must be of the same data type.\n",
    "---\n",
    "8. Of the 10 uses of NumPy, name 2.\n",
    "    - Multi-dimensional arrays\n",
    "    - Mathematical operations\n",
    "---\n",
    "9. Name one of the other libraries we'll use with NumPy?\n",
    "    - Matplotlib\n",
    "---\n",
    "10. What is the shape of NumPy arrays?\n",
    "    - The shape of a NumPy array is a tuple that describes the dimensions of the array. (multi-dimensional)\n",
    "---\n",
    "11. What is a Tensor?\n",
    "    - an array with 3+ dimensions\n",
    "---\n",
    "12. Name a reason why it's better using  NumPy for Data Analysis than using a Python List?\n",
    "    - Performance\n",
    "---\n",
    "13. When creating an \"empty\" array, where do the elements come from?\n",
    "    - Empty will fill in values based on memory which creates an array whose initial content is random and depends on the state of the memory"
   ]
  },
  {
   "cell_type": "markdown",
   "metadata": {},
   "source": [
    "#### Flow Control Methods:"
   ]
  },
  {
   "cell_type": "code",
   "execution_count": 92,
   "metadata": {},
   "outputs": [
    {
     "name": "stdout",
     "output_type": "stream",
     "text": [
      "Renting a car is more affordable.\n"
     ]
    }
   ],
   "source": [
    "#1. Create an if statement: if 'age' is greater than or equal to 25, print \"Renting a car is more affordable\", however if 'age' is less than 25, print \"Renting a car is very expensive.\"\n",
    "\n",
    "age = 26\n",
    "\n",
    "if age >= 25:\n",
    "    print('Renting a car is more affordable.')\n",
    "else:\n",
    "    print(\"Renting a car is very expensive\")"
   ]
  },
  {
   "cell_type": "code",
   "execution_count": 93,
   "metadata": {},
   "outputs": [
    {
     "name": "stdout",
     "output_type": "stream",
     "text": [
      "Renting a car is more affordable.\n"
     ]
    }
   ],
   "source": [
    "#2. Create and chain an if-else  statement: if 'age' is greater than or equal to 25, print \"Renting a car is more affordable.\" \n",
    "#If 'age' is less than 25 but greater than or equal to 18, print \"Renting a car is very expensive.\" Finally, if age is less than 18, print \"You cannot legally rent a car.\"\n",
    "\n",
    "age = 26\n",
    "\n",
    "if age >= 25:\n",
    "    print(\"Renting a car is more affordable.\")\n",
    "elif age >= 18:\n",
    "    print(\"Renting a car is very expensive.\")\n",
    "else:\n",
    "    print(\"You cannot legally rent a car.\")"
   ]
  },
  {
   "cell_type": "code",
   "execution_count": 15,
   "metadata": {},
   "outputs": [
    {
     "name": "stdout",
     "output_type": "stream",
     "text": [
      "Total characters in the string: 43\n",
      "e u i o o u o e e a o "
     ]
    }
   ],
   "source": [
    "#3. Loop over the following string to (1) count all the characters in the string and (2) print out all the vowels -- \"The quick brown fox jumps over the lazy dog\"\n",
    "\n",
    "string = \"The quick brown fox jumps over the lazy dog\"\n",
    "vowels = ('a', 'e', 'i', 'o', 'u')\n",
    "count = 0\n",
    "\n",
    "for char in string:\n",
    "    count += 1\n",
    "print(f\"Total characters in the string: {count}\")\n",
    "\n",
    "for vowel in string:\n",
    "        if vowel in vowels:\n",
    "                print(vowel, end = ' ')\n",
    "\n",
    "\n"
   ]
  },
  {
   "cell_type": "code",
   "execution_count": 95,
   "metadata": {},
   "outputs": [
    {
     "name": "stdout",
     "output_type": "stream",
     "text": [
      "cerise trousers\n",
      "fuchsia trousers\n",
      "auburn trousers\n",
      "Dark Sapphire trousers\n",
      "burnt sienna trousers\n",
      "aqua trousers\n",
      "gunmetal blue trousers\n",
      "maple trousers\n",
      "cerise blouse\n",
      "fuchsia blouse\n",
      "auburn blouse\n",
      "Dark Sapphire blouse\n",
      "burnt sienna blouse\n",
      "aqua blouse\n",
      "gunmetal blue blouse\n",
      "maple blouse\n",
      "cerise bandana\n",
      "fuchsia bandana\n",
      "auburn bandana\n",
      "Dark Sapphire bandana\n",
      "burnt sienna bandana\n",
      "aqua bandana\n",
      "gunmetal blue bandana\n",
      "maple bandana\n",
      "cerise cumber band\n",
      "fuchsia cumber band\n",
      "auburn cumber band\n",
      "Dark Sapphire cumber band\n",
      "burnt sienna cumber band\n",
      "aqua cumber band\n",
      "gunmetal blue cumber band\n",
      "maple cumber band\n",
      "cerise blazer\n",
      "fuchsia blazer\n",
      "auburn blazer\n",
      "Dark Sapphire blazer\n",
      "burnt sienna blazer\n",
      "aqua blazer\n",
      "gunmetal blue blazer\n",
      "maple blazer\n",
      "cerise vest\n",
      "fuchsia vest\n",
      "auburn vest\n",
      "Dark Sapphire vest\n",
      "burnt sienna vest\n",
      "aqua vest\n",
      "gunmetal blue vest\n",
      "maple vest\n",
      "cerise french beret\n",
      "fuchsia french beret\n",
      "auburn french beret\n",
      "Dark Sapphire french beret\n",
      "burnt sienna french beret\n",
      "aqua french beret\n",
      "gunmetal blue french beret\n",
      "maple french beret\n",
      "cerise scarf\n",
      "fuchsia scarf\n",
      "auburn scarf\n",
      "Dark Sapphire scarf\n",
      "burnt sienna scarf\n",
      "aqua scarf\n",
      "gunmetal blue scarf\n",
      "maple scarf\n",
      "cerise stole\n",
      "fuchsia stole\n",
      "auburn stole\n",
      "Dark Sapphire stole\n",
      "burnt sienna stole\n",
      "aqua stole\n",
      "gunmetal blue stole\n",
      "maple stole\n"
     ]
    }
   ],
   "source": [
    "#4. Write a nested loop that prints out every piece of clothing from the `couture` list, in every fashionable color from the `panettone` set: \n",
    "#couture = [\"trousers\", \"blouse\", \"bandana\", \"cumber band\", \"blazer\", \"vest\", \"french beret\", \"scarf\", \"stole\"] and \n",
    "#panettone = {\"cerise\", \"fuchsia\", \"aqua\", \"maple\", \"auburn\", \"burnt sienna\", \"gunmetal blue\", \"Dark Sapphire\"}\n",
    "\n",
    "couture = [\"trousers\", \"blouse\", \"bandana\", \"cumber band\", \"blazer\", \"vest\", \"french beret\", \"scarf\", \"stole\"]\n",
    "panettone = {\"cerise\", \"fuchsia\", \"aqua\", \"maple\", \"auburn\", \"burnt sienna\", \"gunmetal blue\", \"Dark Sapphire\"}\n",
    "\n",
    "for clothing in couture:\n",
    "    for color in panettone:\n",
    "        print(f\"{color} {clothing}\")"
   ]
  },
  {
   "cell_type": "code",
   "execution_count": 1,
   "metadata": {},
   "outputs": [
    {
     "name": "stdout",
     "output_type": "stream",
     "text": [
      "The sum of numbers from 1 to 100 is: 5050\n"
     ]
    }
   ],
   "source": [
    "#5. Use range as a loop to calculate the sum of all the numbers from 1 to 100\n",
    "\n",
    "sum = 0\n",
    "\n",
    "\n",
    "for num in range(1, 101):\n",
    "    sum += num\n",
    "\n",
    "print(\"The sum of numbers from 1 to 100 is:\", sum)"
   ]
  },
  {
   "cell_type": "code",
   "execution_count": 97,
   "metadata": {},
   "outputs": [
    {
     "name": "stdout",
     "output_type": "stream",
     "text": [
      "banana\n"
     ]
    }
   ],
   "source": [
    "#6. Print the second item in this fruits list. [\"apple\", \"banana\", \"cherry\"]\n",
    "\n",
    "fruits = [\"apple\", \"banana\", \"cherry\"]\n",
    "fruit = fruits[1]\n",
    "print(fruit)"
   ]
  },
  {
   "cell_type": "code",
   "execution_count": 98,
   "metadata": {},
   "outputs": [
    {
     "name": "stdout",
     "output_type": "stream",
     "text": [
      "['kiwi', 'banana', 'cherry']\n"
     ]
    }
   ],
   "source": [
    "#7. Change the value from \"apple\" to \"kiwi\", in the fruits list. [\"apple\", \"banana\", \"cherry\"]\n",
    "\n",
    "fruits = [\"apple\", \"banana\", \"cherry\"]\n",
    "fruits[0] = \"kiwi\"\n",
    "print(fruits)\n"
   ]
  },
  {
   "cell_type": "code",
   "execution_count": 99,
   "metadata": {},
   "outputs": [
    {
     "name": "stdout",
     "output_type": "stream",
     "text": [
      "['apple', 'banana', 'cherry', 'orange']\n"
     ]
    }
   ],
   "source": [
    "#8. Use the append method to add \"orange\" to the fruits list. [\"apple\", \"banana\", \"cherry\"]\n",
    "\n",
    "fruits = [\"apple\", \"banana\", \"cherry\"]\n",
    "fruits.append(\"orange\")\n",
    "print(fruits)"
   ]
  },
  {
   "cell_type": "code",
   "execution_count": 100,
   "metadata": {},
   "outputs": [
    {
     "name": "stdout",
     "output_type": "stream",
     "text": [
      "['apple', 'lemon', 'banana', 'cherry']\n"
     ]
    }
   ],
   "source": [
    "#9. Use the insert method to add \"lemon\" as the second item in the fruits list. [\"apple\", \"banana\", \"cherry\"]\n",
    "\n",
    "fruits = [\"apple\", \"banana\", \"cherry\"]\n",
    "fruits.insert(1, \"lemon\")\n",
    "print(fruits)"
   ]
  },
  {
   "cell_type": "code",
   "execution_count": 101,
   "metadata": {},
   "outputs": [
    {
     "name": "stdout",
     "output_type": "stream",
     "text": [
      "['apple', 'cherry']\n"
     ]
    }
   ],
   "source": [
    "#10. Use the remove method to remove \"banana\" from the fruits list. [\"apple\", \"banana\", \"cherry\"]\n",
    "fruits = [\"apple\", \"banana\", \"cherry\"]\n",
    "fruits.remove(\"banana\")\n",
    "print(fruits)"
   ]
  },
  {
   "cell_type": "code",
   "execution_count": 102,
   "metadata": {},
   "outputs": [
    {
     "name": "stdout",
     "output_type": "stream",
     "text": [
      "3rd item: kiwi\n",
      "2nd to last item: melon\n"
     ]
    }
   ],
   "source": [
    "#11. Use negative indexing to print the 3rd and 2nd to last items in the list. [\"apple\", \"banana\", \"cherry\", \"orange\", \"kiwi\", \"melon\", \"mango\"]\n",
    "\n",
    "fruits = [\"apple\", \"banana\", \"cherry\", \"orange\", \"kiwi\", \"melon\", \"mango\"]\n",
    "\n",
    "print(\"3rd item:\", fruits[-3])\n",
    "\n",
    "print(\"2nd to last item:\", fruits[-2])"
   ]
  },
  {
   "cell_type": "code",
   "execution_count": 103,
   "metadata": {},
   "outputs": [
    {
     "name": "stdout",
     "output_type": "stream",
     "text": [
      "['cherry', 'orange', 'kiwi']\n"
     ]
    }
   ],
   "source": [
    "#12. Use a range of indexes to print the third, fourth, and fifth item in the list. [\"apple\", \"banana\", \"cherry\", \"orange\", \"kiwi\", \"melon\", \"mango\"]\n",
    "\n",
    "fruits = [\"apple\", \"banana\", \"cherry\", \"orange\", \"kiwi\", \"melon\", \"mango\"]\n",
    "print(fruits[2:5])"
   ]
  },
  {
   "cell_type": "code",
   "execution_count": 104,
   "metadata": {},
   "outputs": [
    {
     "name": "stdout",
     "output_type": "stream",
     "text": [
      "Number of items in the list: 7\n"
     ]
    }
   ],
   "source": [
    "#13. Use the correct syntax to print the number of items in the list. [\"apple\", \"banana\", \"cherry\", \"orange\", \"kiwi\", \"melon\", \"mango\"]\n",
    "\n",
    "fruits = [\"apple\", \"banana\", \"cherry\", \"orange\", \"kiwi\", \"melon\", \"mango\"]\n",
    "\n",
    "print(\"Number of items in the list:\", len(fruits))"
   ]
  },
  {
   "cell_type": "code",
   "execution_count": 18,
   "metadata": {},
   "outputs": [
    {
     "name": "stdout",
     "output_type": "stream",
     "text": [
      "['orange', 'melon', 'mango', 'kiwi', 'cherry', 'banana', 'apple']\n"
     ]
    }
   ],
   "source": [
    "#14. Use the correct syntax to sort this list in reverse order [\"apple\", \"banana\", \"cherry\", \"orange\", \"kiwi\", \"melon\", \"mango\"]\n",
    "\n",
    "fruits = [\"apple\", \"banana\", \"cherry\", \"orange\", \"kiwi\", \"melon\", \"mango\"]\n",
    "#print(sorted(fruits))\n",
    "#print(fruits.reverse)\n",
    "\n",
    "print(sorted(fruits, reverse=True))\n"
   ]
  },
  {
   "cell_type": "code",
   "execution_count": 123,
   "metadata": {},
   "outputs": [
    {
     "name": "stdout",
     "output_type": "stream",
     "text": [
      "['apple', 'banana', 'cherry', 'kiwi', 'mango', 'melon', 'orange']\n",
      "['orange', 'melon', 'mango', 'kiwi', 'cherry', 'banana', 'apple']\n"
     ]
    }
   ],
   "source": [
    "fruits = [\"apple\", \"banana\", \"cherry\", \"orange\", \"kiwi\", \"melon\", \"mango\"]\n",
    "\n",
    "fruits = sorted(fruits)\n",
    "print(fruits)\n",
    "\n",
    "fruits = fruits[::-1]\n",
    "print(fruits)"
   ]
  },
  {
   "cell_type": "markdown",
   "metadata": {},
   "source": [
    "**<ins>Use a Python code file for this section</ins>**:\n",
    "\n"
   ]
  },
  {
   "cell_type": "markdown",
   "metadata": {},
   "source": [
    "15. Use the DateTime module to get Current Date and Time, and save it to a variable. Then extract just the Full month name form that variable."
   ]
  },
  {
   "cell_type": "code",
   "execution_count": 106,
   "metadata": {},
   "outputs": [
    {
     "name": "stdout",
     "output_type": "stream",
     "text": [
      "October\n"
     ]
    }
   ],
   "source": [
    "import datetime\n",
    "\n",
    "month = datetime.datetime.now()\n",
    "print(month.strftime(\"%B\"))\n"
   ]
  },
  {
   "cell_type": "markdown",
   "metadata": {},
   "source": [
    "16. Write a simple function that takes 2 parameters -- a  first name and a day name.\n",
    "    - Set a default value for the day name of Sunday.\n",
    "    - Have the function print out a greeting -- using the parameters -- that says something like \"Hi first-name! Happy day-name!\". Remember to use the variables in the greeting to replace first-name and day-name.  \n",
    "    - Invoke this function with 2 variables.\n",
    "    - Invoke this function with 1 variable only."
   ]
  },
  {
   "cell_type": "code",
   "execution_count": 125,
   "metadata": {},
   "outputs": [
    {
     "name": "stdout",
     "output_type": "stream",
     "text": [
      "Hi Freddie! Happy Wednesday!\n",
      "Hi Mimi! Happy Sunday!\n"
     ]
    }
   ],
   "source": [
    "\n",
    "hello(\"Freddie\", \"Wednesday\")\n",
    "hello(\"Mimi\")\n",
    "\n",
    "def hello(name, day=\"Sunday\"):\n",
    "    print(f\"Hi {name}! Happy {day}!\")\n"
   ]
  },
  {
   "cell_type": "markdown",
   "metadata": {},
   "source": [
    "17. Write a block of code to handle one of the most common Python exception errors. Select one of the common errors from the curriculum section on Python Exception handling. Have your code example uses the `try`,`except`, `else`, and `finally` components."
   ]
  },
  {
   "cell_type": "code",
   "execution_count": 126,
   "metadata": {},
   "outputs": [
    {
     "name": "stdout",
     "output_type": "stream",
     "text": [
      "Something went wrong\n",
      "The 'try except' is finished\n"
     ]
    }
   ],
   "source": [
    "try:\n",
    "    print(x)\n",
    "except:\n",
    "    print(\"Something went wrong\")\n",
    "else:\n",
    "    print(\"Nothing went wrong\")\n",
    "finally:\n",
    "    print(\"The 'try except' is finished\")"
   ]
  }
 ],
 "metadata": {
  "kernelspec": {
   "display_name": "Python 3",
   "language": "python",
   "name": "python3"
  },
  "language_info": {
   "codemirror_mode": {
    "name": "ipython",
    "version": 3
   },
   "file_extension": ".py",
   "mimetype": "text/x-python",
   "name": "python",
   "nbconvert_exporter": "python",
   "pygments_lexer": "ipython3",
   "version": "3.11.5"
  }
 },
 "nbformat": 4,
 "nbformat_minor": 2
}
