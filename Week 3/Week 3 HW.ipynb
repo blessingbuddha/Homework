{
 "cells": [
  {
   "cell_type": "markdown",
   "metadata": {},
   "source": [
    "# **Week 3 HW**\n",
    "---"
   ]
  },
  {
   "cell_type": "markdown",
   "metadata": {},
   "source": [
    "#### Data Types:\n",
    "\n",
    "<ins>Use markdown formatting for the following questions (e.g., bold lettering, bullet points, different font sizes, etc.)</ins>: \n",
    "\n",
    "1. What is an algorithm?\n",
    "    - An algorithm is a series of steps to solve a problem at hand\n",
    "2. Variable names may not start with certain characters - name two.\n",
    "    * Special characters like !\n",
    "    * Numbers like 3var\n",
    "3. What is a Semantic error?\n",
    "    - Another term for \"logic error\", where you literally write the wrong code\n",
    "4. What is the #1 rule of coding / debugging?\n",
    "    - Complexity is the enemy of efficiency!\n",
    "5. List 5 Python reserved words.\n",
    "    - elif\n",
    "    - else\n",
    "    - pass\n",
    "    - not\n",
    "    - or\n",
    "\n"
   ]
  },
  {
   "cell_type": "markdown",
   "metadata": {},
   "source": [
    "#### Data Types:\n",
    "\n",
    "<ins>Open a code cell in your Jupyter Notebook and write the following code</ins>:\n",
    "\n",
    "6. Write a multi-line comment with your name, favorite food, and dream job on 3 different lines"
   ]
  },
  {
   "cell_type": "code",
   "execution_count": 28,
   "metadata": {},
   "outputs": [
    {
     "name": "stdout",
     "output_type": "stream",
     "text": [
      "My name is Freddie Vo.\n",
      "My favorite food is Pizza.\n",
      "My dream job is Business Analytics.\n",
      "\n",
      "My name is Freddie Vo.\n",
      "My favorite food is pizza.\n",
      "My dream job is Business Analytics\n",
      "\n"
     ]
    }
   ],
   "source": [
    "person_name = 'Freddie Vo.'\n",
    "favorite_food = 'Pizza.'\n",
    "dream_job = 'Business Analytics.'\n",
    "\n",
    "print('My name is ' + person_name)\n",
    "print('My favorite food is ' + favorite_food)\n",
    "print('My dream job is ' + dream_job)\n",
    "\n",
    "print('''\n",
    "My name is Freddie Vo.\n",
    "My favorite food is Pizza.\n",
    "My dream job is Business Analytics\n",
    "''')\n",
    "\n"
   ]
  },
  {
   "cell_type": "markdown",
   "metadata": {},
   "source": [
    "7. Assign 5 different data types to 5 different variables. At least one datatype must be a string  \n",
    "    - Print the length of your string\n",
    "    - Print the index value of the 4th character in your string"
   ]
  },
  {
   "cell_type": "code",
   "execution_count": 212,
   "metadata": {},
   "outputs": [
    {
     "name": "stdout",
     "output_type": "stream",
     "text": [
      "Length of the string: 35\n",
      "Index value of the 4th character is: l\n"
     ]
    }
   ],
   "source": [
    "string = \"Hello everyone! My name is Freddie.\"\n",
    "integer = 26\n",
    "booolean = True\n",
    "float = 3.5\n",
    "list = [1,2,3,4,5]\n",
    "\n",
    "print('Length of the string:', len(string))\n",
    "print('Index value of the 4th character is:', string[3] )"
   ]
  },
  {
   "cell_type": "markdown",
   "metadata": {},
   "source": [
    "8. Create a new variable called savvy, and assign it the string with this phrase \"Learning Data Analytics and Python is Awesome!\"\n",
    "    - Return a range of characters that slices the above string from the beginning of  \"ing\" up to before \"and\"\n",
    "    - Replace \"Awesome\" with \"great\" in the string\n",
    "    - Test and print the savvy string to see it contains \"Python\""
   ]
  },
  {
   "cell_type": "code",
   "execution_count": 213,
   "metadata": {},
   "outputs": [
    {
     "name": "stdout",
     "output_type": "stream",
     "text": [
      "46\n",
      "ing Data Analytics \n",
      "Learning Data Analytics and Python is great!\n",
      "Does savvy contain Python? True\n"
     ]
    }
   ],
   "source": [
    "savvy = \"Learning Data Analytics and Python is Awesome!\"\n",
    "\n",
    "print(len(savvy))\n",
    "print(savvy[5:24])\n",
    "\n",
    "savvy1 = savvy.replace(\"Awesome\", 'great')\n",
    "\n",
    "print(savvy1)\n",
    "\n",
    "contains_python = \"Python\" in savvy\n",
    "\n",
    "print(\"Does savvy contain Python?\", contains_python)\n"
   ]
  },
  {
   "cell_type": "markdown",
   "metadata": {},
   "source": [
    "#### Complex Data Types:\n",
    "\n",
    "9. Create and assign 3 more variables called name, age and length using the multi-variable  naming method\n",
    "    - Format a new string called 'miniBio' using variables in curly brackets to complete this phrase... \"Hi my name is (name), I am (tall) and (so) old today.\"\n",
    "    - Print 'miniBio'\n",
    "    - Cast and print the age variable to a float"
   ]
  },
  {
   "cell_type": "code",
   "execution_count": 2,
   "metadata": {},
   "outputs": [
    {
     "name": "stdout",
     "output_type": "stream",
     "text": [
      "Hi, my name is Freddie, I am 5'9\" tall, and 26.0 years old today.\n"
     ]
    }
   ],
   "source": [
    "name, age, tall = \"Freddie\", 26, \"5'9\\\"\"\n",
    "age = float(age)\n",
    "\n",
    "miniBio = f\"Hi, my name is {name}, I am {tall} tall, and {age} years old today.\"\n",
    "\n",
    "print(miniBio)\n",
    "\n",
    "\n"
   ]
  },
  {
   "cell_type": "markdown",
   "metadata": {},
   "source": [
    "\n",
    "\n",
    "10. Create a list of at least 5 elements of mixed data types\n",
    "    - Replace a part of it with something else\n",
    "    \n"
   ]
  },
  {
   "cell_type": "code",
   "execution_count": 6,
   "metadata": {},
   "outputs": [
    {
     "name": "stdout",
     "output_type": "stream",
     "text": [
      "['chocolate', 'vanilla', 'strawberry', 'mango', 'pecan']\n",
      "['chocolate', 'rocky road', 'strawberry', 'mango', 'pecan']\n"
     ]
    }
   ],
   "source": [
    "icecream = ['chocolate', 'vanilla', 'strawberry', 'mango', 'pecan']\n",
    "\n",
    "print(icecream)\n",
    "\n",
    "\n",
    "index = icecream.index('vanilla')\n",
    "icecream[1] = 'rocky road'\n",
    "\n",
    "print(icecream)\n"
   ]
  },
  {
   "cell_type": "markdown",
   "metadata": {},
   "source": [
    "- Append or insert several more items to the list \n",
    "    - Find and print the length of the list"
   ]
  },
  {
   "cell_type": "code",
   "execution_count": 216,
   "metadata": {},
   "outputs": [
    {
     "name": "stdout",
     "output_type": "stream",
     "text": [
      "['chocolate', 'rocky road', 'strawberry', 'mango', 'pecan', 'hazelnut', 'macha']\n",
      "Icecream length is:  7\n"
     ]
    }
   ],
   "source": [
    "icecream.append('hazelnut')\n",
    "icecream.append('macha')\n",
    "\n",
    "print(icecream)\n",
    "\n",
    "print('Icecream length is: ', len(icecream))"
   ]
  },
  {
   "cell_type": "markdown",
   "metadata": {},
   "source": [
    "- Slice a sub-section of the 1st list, and save it to a different 2nd list\n",
    "   - Print the 2nd list\n",
    "    - Extend your original list with the 2nd list sliced above"
   ]
  },
  {
   "cell_type": "code",
   "execution_count": 217,
   "metadata": {},
   "outputs": [
    {
     "name": "stdout",
     "output_type": "stream",
     "text": [
      "Second list: ['strawberry', 'mango', 'pecan']\n",
      "Extended list is:  ['chocolate', 'rocky road', 'strawberry', 'mango', 'pecan', 'hazelnut', 'macha', 'strawberry', 'mango', 'pecan']\n"
     ]
    }
   ],
   "source": [
    "icecream2 = icecream[2:5]\n",
    "\n",
    "\n",
    "print(\"Second list:\", icecream2)\n",
    "\n",
    "icecream.extend(icecream2)\n",
    "\n",
    "print('Extended list is: ', (icecream))\n"
   ]
  },
  {
   "cell_type": "markdown",
   "metadata": {},
   "source": [
    " - Create a new list called \"simList\" containing at least 5 elements of the same data type, either string, integer, float, or Boolean\n",
    "    - Sort \"simList\", and print the list\n",
    "    - Copy the \"simList\" list to another 3rd list\n",
    "    - Add the 2nd and 3rd lists together into a 4th list"
   ]
  },
  {
   "cell_type": "code",
   "execution_count": 218,
   "metadata": {},
   "outputs": [
    {
     "name": "stdout",
     "output_type": "stream",
     "text": [
      "Sorted simList: [1, 2, 3, 5, 7]\n",
      "Fourth list: ['strawberry', 'mango', 'pecan', 1, 2, 3, 5, 7]\n"
     ]
    }
   ],
   "source": [
    "simList = [5, 2, 7, 1, 3]\n",
    "\n",
    "simList.sort()\n",
    "print(\"Sorted simList:\", simList)\n",
    "\n",
    "\n",
    "icecream3 = simList.copy()\n",
    "\n",
    "icecream4 = icecream2 + icecream3\n",
    "\n",
    "print(\"Fourth list:\", icecream4)"
   ]
  },
  {
   "cell_type": "markdown",
   "metadata": {},
   "source": [
    "11. Create a tuple of about 5 elements\n",
    "    - Multiply your tuple by 3 and save it to a new 2nd tuple\n",
    "    - Access and print the 12th element from the 2nd tuple\n",
    "    - Sort the 2nd tuple and print it\n",
    "    - Copy 4 specific elements from your 2nd tuple to a new 3nd tuple\n",
    "    - Unpack the 3rd tuple into 4 variables and print these variables\n",
    "    - Create a 4th tuple with single item 50 and print this tuple\n",
    "    - Add the 2nd and 3rd tuple together into a 5th tuple and print the tuple"
   ]
  },
  {
   "cell_type": "code",
   "execution_count": 1,
   "metadata": {},
   "outputs": [
    {
     "name": "stdout",
     "output_type": "stream",
     "text": [
      "12th element of the second tuple: pineapple\n",
      "Sorted second tuple: ('9', '9', '9', 'car', 'car', 'car', 'football', 'football', 'football', 'music', 'music', 'music', 'pineapple', 'pineapple', 'pineapple')\n",
      "Unpacked variables: pineapple football car 9\n",
      "<class 'tuple'>\n",
      "Fourth tuple: ('50',)\n",
      "('music', 'pineapple', 'football', 'car', '9', 'music', 'pineapple', 'football', 'car', '9', 'music', 'pineapple', 'football', 'car', '9', 'pineapple', 'football', 'car', '9')\n"
     ]
    }
   ],
   "source": [
    "tup1 = ('music','pineapple','football','car','9')\n",
    "\n",
    "#Multiply your tuple by 3 and save it to a new 2nd tuple\n",
    "tup2 = tup1 * 3\n",
    "\n",
    "\n",
    "#Access and print the 12th element from the 2nd tuple\n",
    "element = tup2[11]\n",
    "print(\"12th element of the second tuple:\", element)\n",
    "\n",
    "#Sort the 2nd tuple and print it\n",
    "sorted_tup2 = tuple(sorted(tup2))\n",
    "print(\"Sorted second tuple:\", sorted_tup2)\n",
    "\n",
    "#Copy 4 specific elements from your 2nd tuple to a new 3nd tuple\n",
    "tup3 = tup2[1:5]\n",
    "\n",
    "#Unpack the 3rd tuple into 4 variables and print these variables\n",
    "var1, var2, var3, var4 = tup3\n",
    "print(\"Unpacked variables:\", var1, var2, var3, var4)\n",
    "\n",
    "#Create a 4th tuple with single item 50 and print this tuple\n",
    "tup4 = '50',\n",
    "print(type(tup4))\n",
    "print(\"Fourth tuple:\", tup4)\n",
    "\n",
    "#Add the 2nd and 3rd tuple together into a 5th tuple and print the tuple\n",
    "tup5 = tup2 + tup3\n",
    "print(tup5)\n"
   ]
  },
  {
   "cell_type": "markdown",
   "metadata": {},
   "source": [
    "12. Create a set of about 3 elements\n",
    "    - Add a list of fruits to the above set and print the result\n",
    "    - Add a car element to your set\n",
    "    - Create a 2nd set with a few odd items\n",
    "    - Save the union of 1st set and 2nd set to a 3rd set\n",
    "    - Pop an element from the 2nd set, and print the remainder of the set\n",
    "    - Clear the 1st set and print the result\n",
    "    - Discard an element, and remove another element from the 3rd set\n",
    "    - Print the remainder of the 3rd set"
   ]
  },
  {
   "cell_type": "code",
   "execution_count": 220,
   "metadata": {},
   "outputs": [
    {
     "name": "stdout",
     "output_type": "stream",
     "text": [
      "First set after adding fruits: {1, 2, 3, 'orange', 'dragonfruit', 'mango'}\n",
      "Second set after popping an element: {'b', 'c'}\n",
      "First set after clearing: set()\n",
      "Third set after discarding and removing elements: {2, 'a', 'orange', 'dragonfruit', 'c', 'honda', 'mango', 'b'}\n"
     ]
    }
   ],
   "source": [
    "set = {1, 2, 3}\n",
    "fruit = ['mango', 'dragonfruit', 'orange']\n",
    "set.update(fruit)\n",
    "\n",
    "print(\"First set after adding fruits:\", set)\n",
    "\n",
    "set.add('honda')\n",
    "\n",
    "set2 = {'a','b','c'}\n",
    "\n",
    "set3 = set.union(set2)\n",
    "\n",
    "pop_set = set2.pop()\n",
    "print(\"Second set after popping an element:\", set2)\n",
    "\n",
    "set.clear()\n",
    "print(\"First set after clearing:\", set)\n",
    "\n",
    "set3.discard(3)\n",
    "set3.remove(1)\n",
    "print(\"Third set after discarding and removing elements:\", set3)"
   ]
  },
  {
   "cell_type": "markdown",
   "metadata": {},
   "source": [
    "13. Create a dictionary with at least 5 values of different data types\n",
    "    - Print out 1 value\n",
    "    - Replace any one value in your dictionary with your name\n",
    "    - Add your favorite color to the dictionary\n",
    "    - Add a list, tuple or set to your dictionary\n",
    "    - Print a list of the dictionary keys\n",
    "    - Print a list of the dictionary values\n",
    "    - Copy your 1st dictionary into a 2nd dictionary\n",
    "    - Pop an item from the 2nd dictionary, and print the dictionary\n",
    "    - Remove all the elements from the 2nd dictionary and print the result"
   ]
  },
  {
   "cell_type": "code",
   "execution_count": 12,
   "metadata": {},
   "outputs": [
    {
     "name": "stdout",
     "output_type": "stream",
     "text": [
      "Age: 26\n",
      "dict_keys(['name', 'age', 'student', 'dream job', 'ethnicity'])\n",
      "Keys in the dictionary: dict_keys(['name', 'age', 'student', 'dream job', 'ethnicity', 'favorite color', 'favorite numbers'])\n",
      "Values in the dictionary: dict_values(['Freddie', 26, True, 'IT', 'Vietnamese', 'blue', (9, 11, 21)])\n",
      "Second dictionary after popping: {'name': 'Freddie', 'age': 26, 'student': True, 'dream job': 'IT', 'ethnicity': 'Vietnamese', 'favorite color': 'blue'}\n",
      "Second dictionary after clearing: {}\n",
      "{'name': 'Freddie', 'age': 26, 'student': True, 'dream job': 'IT', 'ethnicity': 'Vietnamese', 'favorite color': 'blue', 'favorite numbers': (9, 11, 21)}\n"
     ]
    }
   ],
   "source": [
    "dict = { \n",
    "    'name': 'Mimi',\n",
    "    'age': 26,\n",
    "    'student': True,\n",
    "    'dream job': 'IT',\n",
    "    'ethnicity': 'Vietnamese'\n",
    "}\n",
    "\n",
    "# Print out 1 value from the dictionary\n",
    "print(\"Age:\", dict[\"age\"])\n",
    "print(dict.keys())\n",
    "\n",
    "# Replace one value in the dictionary with your name\n",
    "dict[\"name\"] = \"Freddie\"\n",
    "\n",
    "# Add your favorite color to the dictionary\n",
    "dict[\"favorite color\"] = \"blue\"\n",
    "\n",
    "# Add a list to the dictionary\n",
    "dict[\"favorite numbers\"] = 9, 11, 21\n",
    "\n",
    "# Print a list of the dictionary keys\n",
    "\n",
    "print(\"Keys in the dictionary:\", dict.keys())\n",
    "\n",
    "# Print a list of the dictionary values\n",
    "print(\"Values in the dictionary:\", dict.values())\n",
    "\n",
    "# Copy the first dictionary into a second dictionary\n",
    "dict2 = dict.copy()\n",
    "\n",
    "# Pop an item from the second dictionary\n",
    "dict2.pop('favorite numbers')\n",
    "\n",
    "# Print the second dictionary\n",
    "print(\"Second dictionary after popping:\", dict2)\n",
    "\n",
    "# Remove all elements from the second dictionary\n",
    "dict2.clear()\n",
    "print(\"Second dictionary after clearing:\", dict2)\n",
    "\n",
    "print(dict)"
   ]
  },
  {
   "cell_type": "markdown",
   "metadata": {},
   "source": [
    "#### When done with homework:\n",
    "- **Due Date**: The following Monday before class\n",
    "- Make sure your homework file is well named\n",
    "- Add the homework to your Homework repo\n",
    "- Use  `git add .`, `git commit -m \"message\"`, and `git push` to upload your homework changes to GitHub in the cloud\n",
    "- Create a JIRA ticket to indicate that your Homework is ready for review:\n",
    "    - <ins> In the \"Summary\" box</ins>: Include First Name and Last Initial, plus a short description in the Summary box (Ex: Jane D. Week # Homework Complete)\n",
    "    - <ins> In the \"Description\" box</ins>: Include GitHub repo url \n",
    "\n",
    "<br>\n",
    "\n",
    "------------------------------------------------------------------------------------\n",
    "\n",
    "<br>\n",
    "\n",
    "#### Final Note: \n",
    "**<ins>Goals from this past week</ins>**: \n",
    "  - Learn about Python, Jupyter Notebooks and VS Code\n",
    "  - Become familiar with Python data types, including complex data types"
   ]
  }
 ],
 "metadata": {
  "kernelspec": {
   "display_name": "Python 3",
   "language": "python",
   "name": "python3"
  },
  "language_info": {
   "codemirror_mode": {
    "name": "ipython",
    "version": 3
   },
   "file_extension": ".py",
   "mimetype": "text/x-python",
   "name": "python",
   "nbconvert_exporter": "python",
   "pygments_lexer": "ipython3",
   "version": "3.11.5"
  }
 },
 "nbformat": 4,
 "nbformat_minor": 2
}
